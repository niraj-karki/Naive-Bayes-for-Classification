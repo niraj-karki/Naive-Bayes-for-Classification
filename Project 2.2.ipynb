{
 "cells": [
  {
   "cell_type": "markdown",
   "id": "1ab65b21",
   "metadata": {},
   "source": [
    "# Naïve Bayes for Classification"
   ]
  },
  {
   "cell_type": "code",
   "execution_count": 1,
   "id": "gNsPpH5m_JBr",
   "metadata": {
    "id": "gNsPpH5m_JBr"
   },
   "outputs": [],
   "source": [
    "# Imporing the required library\n",
    "import pandas as pd"
   ]
  },
  {
   "cell_type": "markdown",
   "id": "c771b6a2",
   "metadata": {
    "colab": {
     "base_uri": "https://localhost:8080/"
    },
    "id": "39bb2c87",
    "outputId": "abadb92e-477a-4d6f-b73e-d0486970bd08"
   },
   "source": [
    "We made few changes to the functions that we created in part I as the one attribute in part I only had two labels (A and B). However, in part II we have two labels in some attributes and 3 in some. To accomodate this, we make use of \\*\\*kwargs, which is a way to pass variable length list of keyworded arguments. With this in place, we don't need to worry about the number of labels that we have in any of the attributes. It should be noted that, **for this implementation we need to pass the arguements in a certain order.** The first argument should be the data that we want to work on, second would be the name of the variable or column, and labels/classes after that. The functions we submitted in part I had probabilities for each label hardcoded but here we make use of a loop which loops through all the classes an attribute might have and returns those probabilities as a dictionary, which is the data structure we have used throughout this project. The reason behind using a dictionary is the ability it gives us to access the values we need easily without having to remember the index number where each element is if we  would have to if we used list instead. "
   ]
  },
  {
   "cell_type": "code",
   "execution_count": 2,
   "id": "lmO0ro-9_ff1",
   "metadata": {
    "colab": {
     "base_uri": "https://localhost:8080/"
    },
    "id": "lmO0ro-9_ff1",
    "outputId": "4d7dfdf3-9fa3-4f1e-fca1-6aa336f8c130",
    "scrolled": true
   },
   "outputs": [],
   "source": [
    "def prior(data):\n",
    "    df = pd.read_csv(data, sep=\" \")\n",
    "    prior_Yes = df[df.Oracle == \"Yes\"].shape[0]/df.shape[0]\n",
    "    prior_No = 1-prior_Yes\n",
    "    return {\"prior_Yes\": prior_Yes, \"prior_No\": prior_No}"
   ]
  },
  {
   "cell_type": "code",
   "execution_count": 3,
   "id": "364d8979",
   "metadata": {},
   "outputs": [],
   "source": [
    "def likelihood(**kwargs):\n",
    "    df = pd.read_csv(list(kwargs.values())[0], sep=\" \")\n",
    "    attr = list(kwargs.values())[1]\n",
    "    d = {}\n",
    "    for i in range(2,len(kwargs)):\n",
    "        d[\"like_\"+list(kwargs.values())[i]+\"_Yes\"] = df[df.Oracle == \"Yes\"][df[df.Oracle == \"Yes\"][attr] == list(kwargs.values())[i]].shape[0] / df[df.Oracle == \"Yes\"].shape[0]\n",
    "        d[\"like_\"+list(kwargs.values())[i]+\"_No\"] = df[df.Oracle == \"No\"][df[df.Oracle == \"No\"][attr] == list(kwargs.values())[i]].shape[0] / df[df.Oracle == \"No\"].shape[0]\n",
    "    return(d)"
   ]
  },
  {
   "cell_type": "code",
   "execution_count": 4,
   "id": "f1ede8a0",
   "metadata": {},
   "outputs": [],
   "source": [
    "def evidence(**kwargs):\n",
    "    df = pd.read_csv(list(kwargs.values())[0], sep=\" \")\n",
    "    attr = list(kwargs.values())[1]\n",
    "    d = {}\n",
    "    for i in range(2,len(kwargs)):\n",
    "        d[\"evi_\"+list(kwargs.values())[i]] = df[df[attr] == list(kwargs.values())[i]].shape[0]/df.shape[0]\n",
    "    return(d)"
   ]
  },
  {
   "cell_type": "code",
   "execution_count": 5,
   "id": "fe009308",
   "metadata": {},
   "outputs": [],
   "source": [
    "def posterior(**kwargs):\n",
    "    df = pd.read_csv(list(kwargs.values())[0], sep=\" \")\n",
    "    attr = list(kwargs.values())[1]\n",
    "    d = {}\n",
    "    for i in range(2,len(kwargs)):\n",
    "        d[\"post_Yes_\"+list(kwargs.values())[i]] = round((likelihood(**kwargs)[\"like_\"+list(kwargs.values())[i]+\"_Yes\"] * prior(list(kwargs.values())[0])[\"prior_Yes\"])/evidence(**kwargs)[\"evi_\"+list(kwargs.values())[i]], 3)\n",
    "        d[\"post_No_\"+list(kwargs.values())[i]] = round((likelihood(**kwargs)[\"like_\"+list(kwargs.values())[i]+\"_No\"] * prior(list(kwargs.values())[0])[\"prior_No\"])/evidence(**kwargs)[\"evi_\"+list(kwargs.values())[i]], 3)\n",
    "    return(d)"
   ]
  },
  {
   "cell_type": "markdown",
   "id": "9a57cc8e",
   "metadata": {},
   "source": [
    "Now that we have a function to calculate diferent kinds of probabilities we need, it is now time to read in our data and make use of the functions to get probabilities that will help us classify new instances as whether it is a good day to fish or not."
   ]
  },
  {
   "cell_type": "markdown",
   "id": "c914b666",
   "metadata": {},
   "source": [
    "-----------"
   ]
  },
  {
   "cell_type": "markdown",
   "id": "b2a31cfd",
   "metadata": {},
   "source": [
    "---"
   ]
  },
  {
   "cell_type": "code",
   "execution_count": 6,
   "id": "d68c1ab0",
   "metadata": {},
   "outputs": [],
   "source": [
    "fish = pd.read_csv(\"fishing.data\", sep = \" \") # Reading in the data which is separated by spaces (\" \")."
   ]
  },
  {
   "cell_type": "code",
   "execution_count": 7,
   "id": "14817f50",
   "metadata": {},
   "outputs": [
    {
     "data": {
      "text/html": [
       "<div>\n",
       "<style scoped>\n",
       "    .dataframe tbody tr th:only-of-type {\n",
       "        vertical-align: middle;\n",
       "    }\n",
       "\n",
       "    .dataframe tbody tr th {\n",
       "        vertical-align: top;\n",
       "    }\n",
       "\n",
       "    .dataframe thead th {\n",
       "        text-align: right;\n",
       "    }\n",
       "</style>\n",
       "<table border=\"1\" class=\"dataframe\">\n",
       "  <thead>\n",
       "    <tr style=\"text-align: right;\">\n",
       "      <th></th>\n",
       "      <th>Oracle</th>\n",
       "      <th>Wind</th>\n",
       "      <th>Air</th>\n",
       "      <th>Water</th>\n",
       "      <th>Sky</th>\n",
       "    </tr>\n",
       "  </thead>\n",
       "  <tbody>\n",
       "    <tr>\n",
       "      <th>0</th>\n",
       "      <td>Yes</td>\n",
       "      <td>Strong</td>\n",
       "      <td>Hot</td>\n",
       "      <td>Warm</td>\n",
       "      <td>Sunny</td>\n",
       "    </tr>\n",
       "    <tr>\n",
       "      <th>1</th>\n",
       "      <td>No</td>\n",
       "      <td>Weak</td>\n",
       "      <td>Hot</td>\n",
       "      <td>Warm</td>\n",
       "      <td>Sunny</td>\n",
       "    </tr>\n",
       "    <tr>\n",
       "      <th>2</th>\n",
       "      <td>Yes</td>\n",
       "      <td>Strong</td>\n",
       "      <td>Hot</td>\n",
       "      <td>Warm</td>\n",
       "      <td>Cloudy</td>\n",
       "    </tr>\n",
       "    <tr>\n",
       "      <th>3</th>\n",
       "      <td>Yes</td>\n",
       "      <td>Strong</td>\n",
       "      <td>Hot</td>\n",
       "      <td>Moderate</td>\n",
       "      <td>Rainy</td>\n",
       "    </tr>\n",
       "    <tr>\n",
       "      <th>4</th>\n",
       "      <td>No</td>\n",
       "      <td>Strong</td>\n",
       "      <td>Cold</td>\n",
       "      <td>Cool</td>\n",
       "      <td>Cloudy</td>\n",
       "    </tr>\n",
       "    <tr>\n",
       "      <th>5</th>\n",
       "      <td>No</td>\n",
       "      <td>Weak</td>\n",
       "      <td>Cold</td>\n",
       "      <td>Cool</td>\n",
       "      <td>Rainy</td>\n",
       "    </tr>\n",
       "    <tr>\n",
       "      <th>6</th>\n",
       "      <td>No</td>\n",
       "      <td>Weak</td>\n",
       "      <td>Cold</td>\n",
       "      <td>Cool</td>\n",
       "      <td>Sunny</td>\n",
       "    </tr>\n",
       "    <tr>\n",
       "      <th>7</th>\n",
       "      <td>Yes</td>\n",
       "      <td>Strong</td>\n",
       "      <td>Hot</td>\n",
       "      <td>Moderate</td>\n",
       "      <td>Sunny</td>\n",
       "    </tr>\n",
       "    <tr>\n",
       "      <th>8</th>\n",
       "      <td>Yes</td>\n",
       "      <td>Strong</td>\n",
       "      <td>Cold</td>\n",
       "      <td>Cool</td>\n",
       "      <td>Sunny</td>\n",
       "    </tr>\n",
       "    <tr>\n",
       "      <th>9</th>\n",
       "      <td>No</td>\n",
       "      <td>Strong</td>\n",
       "      <td>Cold</td>\n",
       "      <td>Moderate</td>\n",
       "      <td>Rainy</td>\n",
       "    </tr>\n",
       "    <tr>\n",
       "      <th>10</th>\n",
       "      <td>Yes</td>\n",
       "      <td>Weak</td>\n",
       "      <td>Cold</td>\n",
       "      <td>Moderate</td>\n",
       "      <td>Sunny</td>\n",
       "    </tr>\n",
       "    <tr>\n",
       "      <th>11</th>\n",
       "      <td>Yes</td>\n",
       "      <td>Weak</td>\n",
       "      <td>Hot</td>\n",
       "      <td>Moderate</td>\n",
       "      <td>Sunny</td>\n",
       "    </tr>\n",
       "    <tr>\n",
       "      <th>12</th>\n",
       "      <td>Yes</td>\n",
       "      <td>Strong</td>\n",
       "      <td>Cold</td>\n",
       "      <td>Warm</td>\n",
       "      <td>Sunny</td>\n",
       "    </tr>\n",
       "    <tr>\n",
       "      <th>13</th>\n",
       "      <td>No</td>\n",
       "      <td>Weak</td>\n",
       "      <td>Hot</td>\n",
       "      <td>Moderate</td>\n",
       "      <td>Rainy</td>\n",
       "    </tr>\n",
       "  </tbody>\n",
       "</table>\n",
       "</div>"
      ],
      "text/plain": [
       "   Oracle    Wind   Air     Water     Sky\n",
       "0     Yes  Strong   Hot      Warm   Sunny\n",
       "1      No    Weak   Hot      Warm   Sunny\n",
       "2     Yes  Strong   Hot      Warm  Cloudy\n",
       "3     Yes  Strong   Hot  Moderate   Rainy\n",
       "4      No  Strong  Cold      Cool  Cloudy\n",
       "5      No    Weak  Cold      Cool   Rainy\n",
       "6      No    Weak  Cold      Cool   Sunny\n",
       "7     Yes  Strong   Hot  Moderate   Sunny\n",
       "8     Yes  Strong  Cold      Cool   Sunny\n",
       "9      No  Strong  Cold  Moderate   Rainy\n",
       "10    Yes    Weak  Cold  Moderate   Sunny\n",
       "11    Yes    Weak   Hot  Moderate   Sunny\n",
       "12    Yes  Strong  Cold      Warm   Sunny\n",
       "13     No    Weak   Hot  Moderate   Rainy"
      ]
     },
     "execution_count": 7,
     "metadata": {},
     "output_type": "execute_result"
    }
   ],
   "source": [
    "fish"
   ]
  },
  {
   "cell_type": "markdown",
   "id": "5a5d32e8",
   "metadata": {},
   "source": [
    "### Prior Probability for the dependent variable"
   ]
  },
  {
   "cell_type": "markdown",
   "id": "1da0648f",
   "metadata": {},
   "source": [
    "To classify any given instance based on Naive Bayes' Classification, we need the prior probability for the different classes in the dependent variables. This will be calculated and returned by the *prior* function as a dictionary. It returns a dictionary with two key-value pairs as we have two classes (Yes or No). We decided not to use a *round* function here in an effort to get a good probability estimate which would be calculated later. "
   ]
  },
  {
   "cell_type": "code",
   "execution_count": 8,
   "id": "0cda0b08",
   "metadata": {
    "scrolled": false
   },
   "outputs": [
    {
     "data": {
      "text/plain": [
       "{'prior_Yes': 0.5714285714285714, 'prior_No': 0.4285714285714286}"
      ]
     },
     "execution_count": 8,
     "metadata": {},
     "output_type": "execute_result"
    }
   ],
   "source": [
    "prior(\"fishing.data\")"
   ]
  },
  {
   "cell_type": "markdown",
   "id": "3a7008cd",
   "metadata": {},
   "source": [
    "Once we have the prior probability, we will now look at the likelihood, estimates and posterior probability which we would calculate and return with the functions we created above for all the independent variables. We will store each of the results in a variable and use these variables below where we create another function called *model* where we will pass new instances and return a result as to whether or not it is a good day to fish."
   ]
  },
  {
   "cell_type": "markdown",
   "id": "8a1116ba",
   "metadata": {},
   "source": [
    "### Wind"
   ]
  },
  {
   "cell_type": "code",
   "execution_count": 9,
   "id": "e1b3f88c",
   "metadata": {
    "scrolled": true
   },
   "outputs": [
    {
     "data": {
      "text/plain": [
       "{'like_Strong_Yes': 0.75,\n",
       " 'like_Strong_No': 0.3333333333333333,\n",
       " 'like_Weak_Yes': 0.25,\n",
       " 'like_Weak_No': 0.6666666666666666}"
      ]
     },
     "execution_count": 9,
     "metadata": {},
     "output_type": "execute_result"
    }
   ],
   "source": [
    "wind_likelihood = likelihood(data = \"fishing.data\", attr = \"Wind\", c1 = \"Strong\", c2 = \"Weak\")\n",
    "wind_likelihood"
   ]
  },
  {
   "cell_type": "code",
   "execution_count": 10,
   "id": "01a5f653",
   "metadata": {},
   "outputs": [
    {
     "data": {
      "text/plain": [
       "{'evi_Strong': 0.5714285714285714, 'evi_Weak': 0.42857142857142855}"
      ]
     },
     "execution_count": 10,
     "metadata": {},
     "output_type": "execute_result"
    }
   ],
   "source": [
    "wind_evidence = evidence(data = \"fishing.data\", attr = \"Wind\", c1 = \"Strong\", c2 = \"Weak\")\n",
    "wind_evidence"
   ]
  },
  {
   "cell_type": "code",
   "execution_count": 11,
   "id": "74e25de8",
   "metadata": {},
   "outputs": [
    {
     "data": {
      "text/plain": [
       "{'post_Yes_Strong': 0.75,\n",
       " 'post_No_Strong': 0.25,\n",
       " 'post_Yes_Weak': 0.333,\n",
       " 'post_No_Weak': 0.667}"
      ]
     },
     "execution_count": 11,
     "metadata": {},
     "output_type": "execute_result"
    }
   ],
   "source": [
    "wind_posterior = posterior(data = \"fishing.data\", attr = \"Wind\", c1 = \"Strong\", c2 = \"Weak\")\n",
    "wind_posterior"
   ]
  },
  {
   "cell_type": "markdown",
   "id": "6d93250c",
   "metadata": {},
   "source": [
    "### Air"
   ]
  },
  {
   "cell_type": "code",
   "execution_count": 12,
   "id": "df94525e",
   "metadata": {
    "scrolled": true
   },
   "outputs": [
    {
     "data": {
      "text/plain": [
       "{'like_Hot_Yes': 0.625,\n",
       " 'like_Hot_No': 0.3333333333333333,\n",
       " 'like_Cold_Yes': 0.375,\n",
       " 'like_Cold_No': 0.6666666666666666}"
      ]
     },
     "execution_count": 12,
     "metadata": {},
     "output_type": "execute_result"
    }
   ],
   "source": [
    "air_likelihood = likelihood(data = \"fishing.data\", attr = \"Air\", c1 = \"Hot\", c2 = \"Cold\")\n",
    "air_likelihood"
   ]
  },
  {
   "cell_type": "code",
   "execution_count": 13,
   "id": "6be1d0f8",
   "metadata": {},
   "outputs": [
    {
     "data": {
      "text/plain": [
       "{'evi_Hot': 0.5, 'evi_Cold': 0.5}"
      ]
     },
     "execution_count": 13,
     "metadata": {},
     "output_type": "execute_result"
    }
   ],
   "source": [
    "air_evidence = evidence(data = \"fishing.data\", attr = \"Air\", c1 = \"Hot\", c2 = \"Cold\")\n",
    "air_evidence"
   ]
  },
  {
   "cell_type": "code",
   "execution_count": 14,
   "id": "3eaee61e",
   "metadata": {},
   "outputs": [
    {
     "data": {
      "text/plain": [
       "{'post_Yes_Hot': 0.714,\n",
       " 'post_No_Hot': 0.286,\n",
       " 'post_Yes_Cold': 0.429,\n",
       " 'post_No_Cold': 0.571}"
      ]
     },
     "execution_count": 14,
     "metadata": {},
     "output_type": "execute_result"
    }
   ],
   "source": [
    "air_posterior = posterior(data = \"fishing.data\", attr = \"Air\", c1 = \"Hot\", c2 = \"Cold\")\n",
    "air_posterior"
   ]
  },
  {
   "cell_type": "markdown",
   "id": "36608a3b",
   "metadata": {},
   "source": [
    "### Water"
   ]
  },
  {
   "cell_type": "code",
   "execution_count": 15,
   "id": "c7c546ba",
   "metadata": {
    "scrolled": true
   },
   "outputs": [
    {
     "data": {
      "text/plain": [
       "{'like_Warm_Yes': 0.375,\n",
       " 'like_Warm_No': 0.16666666666666666,\n",
       " 'like_Moderate_Yes': 0.5,\n",
       " 'like_Moderate_No': 0.3333333333333333,\n",
       " 'like_Cool_Yes': 0.125,\n",
       " 'like_Cool_No': 0.5}"
      ]
     },
     "execution_count": 15,
     "metadata": {},
     "output_type": "execute_result"
    }
   ],
   "source": [
    "water_likelihood = likelihood(data = \"fishing.data\", attr = \"Water\", c1 = \"Warm\", c2 = \"Moderate\", c3 = \"Cool\")\n",
    "water_likelihood"
   ]
  },
  {
   "cell_type": "code",
   "execution_count": 16,
   "id": "ee04e8bf",
   "metadata": {},
   "outputs": [
    {
     "data": {
      "text/plain": [
       "{'evi_Warm': 0.2857142857142857,\n",
       " 'evi_Moderate': 0.42857142857142855,\n",
       " 'evi_Cool': 0.2857142857142857}"
      ]
     },
     "execution_count": 16,
     "metadata": {},
     "output_type": "execute_result"
    }
   ],
   "source": [
    "water_evidence = evidence(data = \"fishing.data\", attr = \"Water\", c1 = \"Warm\", c2 = \"Moderate\", c3 = \"Cool\")\n",
    "water_evidence"
   ]
  },
  {
   "cell_type": "code",
   "execution_count": 17,
   "id": "0a820005",
   "metadata": {},
   "outputs": [
    {
     "data": {
      "text/plain": [
       "{'post_Yes_Warm': 0.75,\n",
       " 'post_No_Warm': 0.25,\n",
       " 'post_Yes_Moderate': 0.667,\n",
       " 'post_No_Moderate': 0.333,\n",
       " 'post_Yes_Cool': 0.25,\n",
       " 'post_No_Cool': 0.75}"
      ]
     },
     "execution_count": 17,
     "metadata": {},
     "output_type": "execute_result"
    }
   ],
   "source": [
    "water_posterior = posterior(data = \"fishing.data\", attr = \"Water\", c1 = \"Warm\", c2 = \"Moderate\", c3 = \"Cool\")\n",
    "water_posterior"
   ]
  },
  {
   "cell_type": "markdown",
   "id": "86a05f67",
   "metadata": {},
   "source": [
    "### Sky"
   ]
  },
  {
   "cell_type": "code",
   "execution_count": 18,
   "id": "bba61c31",
   "metadata": {
    "scrolled": true
   },
   "outputs": [
    {
     "data": {
      "text/plain": [
       "{'like_Sunny_Yes': 0.75,\n",
       " 'like_Sunny_No': 0.3333333333333333,\n",
       " 'like_Cloudy_Yes': 0.125,\n",
       " 'like_Cloudy_No': 0.16666666666666666,\n",
       " 'like_Rainy_Yes': 0.125,\n",
       " 'like_Rainy_No': 0.5}"
      ]
     },
     "execution_count": 18,
     "metadata": {},
     "output_type": "execute_result"
    }
   ],
   "source": [
    "sky_likelihood = likelihood(data = \"fishing.data\", attr = \"Sky\", c1 = \"Sunny\", c2 = \"Cloudy\", c3 = \"Rainy\")\n",
    "sky_likelihood"
   ]
  },
  {
   "cell_type": "code",
   "execution_count": 19,
   "id": "1709f6fb",
   "metadata": {},
   "outputs": [
    {
     "data": {
      "text/plain": [
       "{'evi_Sunny': 0.5714285714285714,\n",
       " 'evi_Cloudy': 0.14285714285714285,\n",
       " 'evi_Rainy': 0.2857142857142857}"
      ]
     },
     "execution_count": 19,
     "metadata": {},
     "output_type": "execute_result"
    }
   ],
   "source": [
    "sky_evidence = evidence(data = \"fishing.data\", attr = \"Sky\", c1 = \"Sunny\", c2 = \"Cloudy\", c3 = \"Rainy\")\n",
    "sky_evidence"
   ]
  },
  {
   "cell_type": "code",
   "execution_count": 20,
   "id": "1b237f7d",
   "metadata": {},
   "outputs": [
    {
     "data": {
      "text/plain": [
       "{'post_Yes_Sunny': 0.75,\n",
       " 'post_No_Sunny': 0.25,\n",
       " 'post_Yes_Cloudy': 0.5,\n",
       " 'post_No_Cloudy': 0.5,\n",
       " 'post_Yes_Rainy': 0.25,\n",
       " 'post_No_Rainy': 0.75}"
      ]
     },
     "execution_count": 20,
     "metadata": {},
     "output_type": "execute_result"
    }
   ],
   "source": [
    "sky_posterior = posterior(data = \"fishing.data\", attr = \"Sky\", c1 = \"Sunny\", c2 = \"Cloudy\", c3 = \"Rainy\")\n",
    "sky_posterior"
   ]
  },
  {
   "cell_type": "markdown",
   "id": "5c50ee0c",
   "metadata": {},
   "source": [
    "To classify a new instance using Naive Bayes', we need the prior probability for each class of the dependent variable and multiply them with the likelihood for all independent variable's classes given that particular class of dependent variable. In our case where our new instance has Strong Wind, Hot Air, Cool Water and Sunny Sky, we need to multiply the probability that it is a good day to fish with the likelihoods for each classes given it is a good day to fish and also multiply the probability that it is not a good day to fish with the likelihoods for each classes given it is not a good day to fish. This gives us to probabilities, one that says it is a good day to fish given the probabilities of the observed data and the other that says it is not a good day to fish given the probabilities of the observed data. Which ever's probability is higher, we assign that label to the instance. "
   ]
  },
  {
   "cell_type": "markdown",
   "id": "afba0e21",
   "metadata": {},
   "source": [
    "### New Instance: Strong Hot Cool Sunny"
   ]
  },
  {
   "cell_type": "code",
   "execution_count": 21,
   "id": "5aeedf59",
   "metadata": {},
   "outputs": [],
   "source": [
    "new_instance = {\"Wind\": \"Strong\", \"Air\": \"Hot\", \"Water\":\"Cool\", \"Sky\": \"Sunny\"}"
   ]
  },
  {
   "cell_type": "code",
   "execution_count": 22,
   "id": "28ec1d12",
   "metadata": {},
   "outputs": [
    {
     "name": "stdout",
     "output_type": "stream",
     "text": [
      "Therefore C(NB) = Yes.\n",
      "The conditional probability that the class is Yes, given the observed attribute values, is: 75.98%.\n"
     ]
    }
   ],
   "source": [
    "def model(new_instanace):\n",
    "    \n",
    "    #Wind\n",
    "    if new_instance[\"Wind\"] == \"Strong\":\n",
    "        prob1_Yes = wind_likelihood[\"like_Strong_Yes\"]\n",
    "        prob1_No = wind_likelihood[\"like_Strong_No\"]\n",
    "    else:\n",
    "        prob1_Yes = wind_likelihood[\"like_Weak_Yes\"]\n",
    "        prob1_No = wind_likelihood[\"like_Weak_No\"]\n",
    "\n",
    "    # Air\n",
    "    if new_instance[\"Air\"] == \"Hot\":\n",
    "        prob2_Yes = air_likelihood[\"like_Hot_Yes\"]\n",
    "        prob2_No = air_likelihood[\"like_Hot_No\"]\n",
    "    else:\n",
    "        prob2_Yes = air_likelihood[\"like_Cold_Yes\"]\n",
    "        prob2_No = air_likelihood[\"like_Cold_No\"]\n",
    "\n",
    "    # Water\n",
    "    if new_instance[\"Water\"] == \"Warm\":\n",
    "        prob3_Yes = water_likelihood[\"like_Warm_Yes\"]\n",
    "        prob3_No = water_likelihood[\"like_Warm_No\"]\n",
    "    elif new_instance[\"Water\"] == \"Moderate\":\n",
    "        prob3_Yes = water_likelihood[\"like_Moderate_Yes\"]\n",
    "        prob3_No = water_likelihood[\"like_Moderate_No\"]\n",
    "    else:\n",
    "        prob3_Yes = water_likelihood[\"like_Cool_Yes\"]\n",
    "        prob3_No = water_likelihood[\"like_Cool_No\"]\n",
    "\n",
    "    # Sky\n",
    "    if new_instance[\"Sky\"] == \"Sunny\":\n",
    "        prob4_Yes = sky_likelihood[\"like_Sunny_Yes\"]\n",
    "        prob4_No = sky_likelihood[\"like_Sunny_No\"]\n",
    "    elif new_instance[\"Sky\"] == \"Cloudy\":\n",
    "        prob4_Yes = sky_likelihood[\"like_Cloudy_Yes\"]\n",
    "        prob4_No = sky_likelihood[\"like_Cloudy_No\"]\n",
    "    else:\n",
    "        prob4_Yes = sky_likelihood[\"like_Rainy_Yes\"]\n",
    "        prob4_No = sky_likelihood[\"like_Rainy_No\"]\n",
    "\n",
    "    yes = prior(\"fishing.data\")[\"prior_Yes\"] * prob1_Yes * prob2_Yes * prob3_Yes * prob4_Yes\n",
    "    no = prior(\"fishing.data\")[\"prior_No\"] * prob1_No * prob2_No * prob3_No * prob4_No\n",
    "\n",
    "    return {\"Yes\": yes, \"No\": no, \"Result\": \"Yes\" if yes>no else \"No\"}\n",
    "\n",
    "print(\"Therefore C(NB) =\", model(new_instance)[\"Result\"]+\".\")\n",
    "print(\"The conditional probability that the class is Yes, given the observed attribute values, is:\", str(100 * (round(model(new_instance)[\"Yes\"]/(model(new_instance)[\"Yes\"]+model(new_instance)[\"No\"]), 4)))+\"%.\")"
   ]
  },
  {
   "cell_type": "code",
   "execution_count": 23,
   "id": "bee30eaa",
   "metadata": {},
   "outputs": [
    {
     "name": "stdout",
     "output_type": "stream",
     "text": [
      "0.025111607142857144\n",
      "0.007936507936507936\n"
     ]
    }
   ],
   "source": [
    "print(model(new_instance)[\"Yes\"])\n",
    "print(model(new_instance)[\"No\"])"
   ]
  },
  {
   "cell_type": "markdown",
   "id": "868deda7",
   "metadata": {},
   "source": [
    "The function called *model* that is created and used above makes use of the *prior* and *likelihood* function that we used above to calculate the probability of each class, given the probabilities of the observed data for any new instance we pass. *model* takes one argument which is a dictionary of the new instance where the keys are the names of the variables and values are the classes for each of those variables. \n",
    "\n",
    "When we pass that dictionary in the function, it checks the values for each of the independent variables and stores the value of likelihoods for that value given each class. In our instance, the value for Wind is \"Strong\" so the function stores the probability of strong given a good day to fish in *prob1_Yes* and probability of weak given not a good day to fish in *prob1_No*. The function does this for all the independent variables and finally multiplies all probabilites of a given class together with prior probability for that class. The return statement in the function then returns a dictionary where we have the calculated probability for Yes class and for No class and a result which has a value of \"Yes\" or \"No\" depending on whichever probability is higher. \n",
    "\n",
    "For our given new instance the probability of Yes class, given the probabilities of the observed data came out to be about 2.51% and the probability of No class, given the probabilities of the observed data came out to be about 0.793%. Because of this, we label the instance as \"Yes\"."
   ]
  },
  {
   "cell_type": "code",
   "execution_count": 24,
   "id": "9d7a5383",
   "metadata": {},
   "outputs": [
    {
     "data": {
      "text/plain": [
       "['Yes',\n",
       " 'Yes',\n",
       " 'Yes',\n",
       " 'Yes',\n",
       " 'No',\n",
       " 'No',\n",
       " 'No',\n",
       " 'Yes',\n",
       " 'No',\n",
       " 'No',\n",
       " 'No',\n",
       " 'Yes',\n",
       " 'Yes',\n",
       " 'No']"
      ]
     },
     "execution_count": 24,
     "metadata": {},
     "output_type": "execute_result"
    }
   ],
   "source": [
    "yes = []\n",
    "no = []\n",
    "for i in range(fish.shape[0]):\n",
    "    \n",
    "    # Wind\n",
    "    like_wind = likelihood(data = \"fishing.data\", attr = \"Wind\", c1 = \"Strong\", c2 = \"Weak\")\n",
    "    if fish.Wind[i] == \"Strong\":\n",
    "        prob1_Yes = like_wind[\"like_Strong_Yes\"]\n",
    "        prob1_No = like_wind[\"like_Strong_No\"]\n",
    "    else:\n",
    "        prob1_Yes = like_wind[\"like_Weak_Yes\"]\n",
    "        prob1_No = like_wind[\"like_Weak_No\"]\n",
    "    \n",
    "    # Air\n",
    "    like_air = likelihood(data = \"fishing.data\", attr = \"Air\", c1 = \"Hot\", c2 = \"Cold\")\n",
    "    if fish.Air[i] == \"Hot\":\n",
    "        prob2_Yes = like_air[\"like_Hot_Yes\"]\n",
    "        prob2_No = like_air[\"like_Hot_No\"]\n",
    "    else:\n",
    "        prob2_Yes = like_air[\"like_Cold_Yes\"]\n",
    "        prob2_No = like_air[\"like_Cold_No\"]\n",
    "    \n",
    "    # Water\n",
    "    like_water = likelihood(data = \"fishing.data\", attr = \"Water\", c1 = \"Warm\", c2 = \"Moderate\", c3 = \"Cool\")\n",
    "    if fish.Water[i] == \"Warm\":\n",
    "        prob3_Yes = like_water[\"like_Warm_Yes\"]\n",
    "        prob3_No = like_water[\"like_Warm_No\"]\n",
    "    elif fish.Water[i] == \"Moderate\":\n",
    "        prob3_Yes = like_water[\"like_Moderate_Yes\"]\n",
    "        prob3_No = like_water[\"like_Moderate_No\"]\n",
    "    else:\n",
    "        prob3_Yes = like_water[\"like_Cool_Yes\"]\n",
    "        prob3_No = like_water[\"like_Cool_No\"]\n",
    "    \n",
    "    # Sky\n",
    "    like_sky = likelihood(data = \"fishing.data\", attr = \"Sky\", c1 = \"Sunny\", c2 = \"Cloudy\", c3 = \"Rainy\")\n",
    "    if fish.Sky[i] == \"Sunny\":\n",
    "        prob4_Yes = like_sky[\"like_Sunny_Yes\"]\n",
    "        prob4_No = like_sky[\"like_Sunny_No\"]\n",
    "    elif fish.Sky[i] == \"Cloudy\":\n",
    "        prob4_Yes = like_sky[\"like_Cloudy_Yes\"]\n",
    "        prob4_No = like_sky[\"like_Cloudy_No\"]\n",
    "    else:\n",
    "        prob4_Yes = like_sky[\"like_Rainy_Yes\"]\n",
    "        prob4_No = like_sky[\"like_Rainy_No\"]\n",
    "        \n",
    "    yes.append(prior(\"fishing.data\")[\"prior_Yes\"] * prob1_Yes * prob2_Yes * prob3_Yes * prob4_Yes)\n",
    "    no.append(prior(\"fishing.data\")[\"prior_No\"] * prob1_No * prob2_No * prob3_No * prob4_No)\n",
    "    \n",
    "result = []\n",
    "for i in range(14):\n",
    "    if yes[i] > no[i]:\n",
    "        result.append(\"Yes\")\n",
    "    else:\n",
    "        result.append(\"No\")\n",
    "        \n",
    "result"
   ]
  },
  {
   "cell_type": "code",
   "execution_count": null,
   "id": "3ad83198",
   "metadata": {},
   "outputs": [],
   "source": []
  },
  {
   "cell_type": "code",
   "execution_count": null,
   "id": "916c01a6",
   "metadata": {},
   "outputs": [],
   "source": []
  }
 ],
 "metadata": {
  "colab": {
   "provenance": []
  },
  "kernelspec": {
   "display_name": "Python 3 (ipykernel)",
   "language": "python",
   "name": "python3"
  },
  "language_info": {
   "codemirror_mode": {
    "name": "ipython",
    "version": 3
   },
   "file_extension": ".py",
   "mimetype": "text/x-python",
   "name": "python",
   "nbconvert_exporter": "python",
   "pygments_lexer": "ipython3",
   "version": "3.9.12"
  }
 },
 "nbformat": 4,
 "nbformat_minor": 5
}
